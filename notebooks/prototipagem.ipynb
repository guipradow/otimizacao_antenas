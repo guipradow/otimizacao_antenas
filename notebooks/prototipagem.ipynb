{
 "cells": [
  {
   "cell_type": "code",
   "execution_count": 119,
   "metadata": {},
   "outputs": [],
   "source": [
    "import pandas as pd\n",
    "import math"
   ]
  },
  {
   "cell_type": "code",
   "execution_count": 120,
   "metadata": {},
   "outputs": [],
   "source": [
    "# Inicia a class que contém as informações da vila\n",
    "class Vila:\n",
    "    def __init__(self, x, y, hab):\n",
    "        self.x = x\n",
    "        self.y = y\n",
    "        self.hab = hab\n",
    "\n",
    "\n",
    "# Inicia a class que contém as informações das antenas\n",
    "class Antena:\n",
    "    def __init__(self, x, y, custo):\n",
    "        self.x = x\n",
    "        self.y = y\n",
    "        self.custo = custo\n",
    "\n",
    "    def cobertura(self, vilas):\n",
    "        x = self.x\n",
    "        y = self.y\n",
    "        dentro = []\n",
    "        for vila in vilas.values():\n",
    "            distancia = math.sqrt((vila.x - x)**2 + (vila.y - y)**2)\n",
    "            if distancia <= RAIO:\n",
    "                dentro.append(vila)\n",
    "        return dentro\n",
    "    \n",
    "\n",
    "# Função para calcular "
   ]
  },
  {
   "cell_type": "code",
   "execution_count": 121,
   "metadata": {},
   "outputs": [],
   "source": [
    "# Lê a guia contendo a informação das vilas do arquivo xlsx\n",
    "df_vilas = pd.read_excel(f'../files/cobertura_exemplo.xlsx', sheet_name='Vilarejos')\n",
    "\n",
    "# Converte a coluna Vilarejo de int para str\n",
    "df_vilas['Vilarejo'] = df_vilas['Vilarejo'].astype('str')\n",
    "\n",
    "# Transforma o df da linha anterior em um dicionário\n",
    "dict_vilas = df_vilas.set_index('Vilarejo').T.to_dict('list')\n",
    "\n",
    "# Lê a guia contendo a informação das antenas do arquivo xlsx\n",
    "df_antenas = pd.read_excel(f'../files/cobertura_exemplo.xlsx', sheet_name='Antenas')\n",
    "\n",
    "# Transforma o df da linha anterior em um dicionário\n",
    "dict_antenas = df_antenas.set_index('Antena').T.to_dict('list')"
   ]
  },
  {
   "cell_type": "code",
   "execution_count": 122,
   "metadata": {},
   "outputs": [],
   "source": [
    "# Cria um dicionário contendo objetos da classe Vila\n",
    "vilas = {key: Vila(*values) for key, values in dict_vilas.items()}\n",
    "\n",
    "# Cria um dicionário contendo objetos da classe Antena\n",
    "antenas = {key: Antena(*values) for key, values in dict_antenas.items()}"
   ]
  },
  {
   "cell_type": "markdown",
   "metadata": {},
   "source": [
    "## Validação \n",
    "Um exemplo de solução viável é escolher os pontos A e B, que cobrem os vilarejos 1, 6, 13, 15, 18, e 25. A situação está ilustrada na Figura1(b). No total, 245530 habitantes estarão sendo atendidos a um custo de $33800. Esta solução, no entanto, não é ótima, visto que é possível atender mais habitantes com outra escolha de antenas.\n",
    "\n",
    "<center><img src='../figs/fig1.png' width='50%' height='auto'/></center>"
   ]
  },
  {
   "cell_type": "markdown",
   "metadata": {},
   "source": [
    "[]('E:\\workspace\\pesquisa-operacional\\otimizacao-antenas\\figs\\fig1.png')"
   ]
  },
  {
   "cell_type": "code",
   "execution_count": 147,
   "metadata": {},
   "outputs": [
    {
     "name": "stdout",
     "output_type": "stream",
     "text": [
      "Total de habitantes pontos A e B: 245530\n",
      "Custo total pontos A e B: $ 33800.00\n"
     ]
    }
   ],
   "source": [
    "# Validação, considerando os pontos A e B\n",
    "antenas_AB = [Antena(*dict_antenas['A']), Antena(*dict_antenas['B'])]\n",
    "custo_AB = sum(antena.custo for antena in antenas_AB)\n",
    "cobertura_AB = set(sum([antena.cobertura(vilas) for antena in antenas_AB], []))\n",
    "habitantes_AB = sum(vila.hab for vila in cobertura_AB)\n",
    "\n",
    "print(f'Total de habitantes pontos A e B: {habitantes_AB}')\n",
    "print(f'Custo total pontos A e B: $ {custo_AB:.2f}')"
   ]
  }
 ],
 "metadata": {
  "kernelspec": {
   "display_name": "base",
   "language": "python",
   "name": "python3"
  },
  "language_info": {
   "codemirror_mode": {
    "name": "ipython",
    "version": 3
   },
   "file_extension": ".py",
   "mimetype": "text/x-python",
   "name": "python",
   "nbconvert_exporter": "python",
   "pygments_lexer": "ipython3",
   "version": "3.10.11"
  }
 },
 "nbformat": 4,
 "nbformat_minor": 2
}
