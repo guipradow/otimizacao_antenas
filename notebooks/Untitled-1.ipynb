{
 "cells": [
  {
   "cell_type": "code",
   "execution_count": 21,
   "metadata": {},
   "outputs": [],
   "source": [
    "class local_instalacao:\n",
    "    def __init__(self, x, y):\n",
    "        self.x = x\n",
    "        self.y = y\n",
    "        self.coord = (x, y)"
   ]
  },
  {
   "cell_type": "code",
   "execution_count": 22,
   "metadata": {},
   "outputs": [],
   "source": [
    "A = local_instalacao(15, 40)"
   ]
  },
  {
   "cell_type": "code",
   "execution_count": 23,
   "metadata": {},
   "outputs": [
    {
     "data": {
      "text/plain": [
       "40"
      ]
     },
     "execution_count": 23,
     "metadata": {},
     "output_type": "execute_result"
    }
   ],
   "source": [
    "A.y"
   ]
  },
  {
   "cell_type": "code",
   "execution_count": 24,
   "metadata": {},
   "outputs": [
    {
     "data": {
      "text/plain": [
       "(15, 40)"
      ]
     },
     "execution_count": 24,
     "metadata": {},
     "output_type": "execute_result"
    }
   ],
   "source": [
    "A.coord"
   ]
  },
  {
   "cell_type": "code",
   "execution_count": 15,
   "metadata": {},
   "outputs": [
    {
     "name": "stdout",
     "output_type": "stream",
     "text": [
      "('A', 'B', 'C', 'D', 'E', 'F', 'G')\n",
      "('A', 'B', 'C', 'D', 'E', 'F', 'H')\n",
      "('A', 'B', 'C', 'D', 'E', 'F', 'I')\n",
      "('A', 'B', 'C', 'D', 'E', 'G', 'H')\n",
      "('A', 'B', 'C', 'D', 'E', 'G', 'I')\n",
      "('A', 'B', 'C', 'D', 'E', 'H', 'I')\n",
      "('A', 'B', 'C', 'D', 'F', 'G', 'H')\n",
      "('A', 'B', 'C', 'D', 'F', 'G', 'I')\n",
      "('A', 'B', 'C', 'D', 'F', 'H', 'I')\n",
      "('A', 'B', 'C', 'D', 'G', 'H', 'I')\n",
      "('A', 'B', 'C', 'E', 'F', 'G', 'H')\n",
      "('A', 'B', 'C', 'E', 'F', 'G', 'I')\n",
      "('A', 'B', 'C', 'E', 'F', 'H', 'I')\n",
      "('A', 'B', 'C', 'E', 'G', 'H', 'I')\n",
      "('A', 'B', 'C', 'F', 'G', 'H', 'I')\n",
      "('A', 'B', 'D', 'E', 'F', 'G', 'H')\n",
      "('A', 'B', 'D', 'E', 'F', 'G', 'I')\n",
      "('A', 'B', 'D', 'E', 'F', 'H', 'I')\n",
      "('A', 'B', 'D', 'E', 'G', 'H', 'I')\n",
      "('A', 'B', 'D', 'F', 'G', 'H', 'I')\n",
      "('A', 'B', 'E', 'F', 'G', 'H', 'I')\n",
      "('A', 'C', 'D', 'E', 'F', 'G', 'H')\n",
      "('A', 'C', 'D', 'E', 'F', 'G', 'I')\n",
      "('A', 'C', 'D', 'E', 'F', 'H', 'I')\n",
      "('A', 'C', 'D', 'E', 'G', 'H', 'I')\n",
      "('A', 'C', 'D', 'F', 'G', 'H', 'I')\n",
      "('A', 'C', 'E', 'F', 'G', 'H', 'I')\n",
      "('A', 'D', 'E', 'F', 'G', 'H', 'I')\n",
      "('B', 'C', 'D', 'E', 'F', 'G', 'H')\n",
      "('B', 'C', 'D', 'E', 'F', 'G', 'I')\n",
      "('B', 'C', 'D', 'E', 'F', 'H', 'I')\n",
      "('B', 'C', 'D', 'E', 'G', 'H', 'I')\n",
      "('B', 'C', 'D', 'F', 'G', 'H', 'I')\n",
      "('B', 'C', 'E', 'F', 'G', 'H', 'I')\n",
      "('B', 'D', 'E', 'F', 'G', 'H', 'I')\n",
      "('C', 'D', 'E', 'F', 'G', 'H', 'I')\n",
      "\n",
      "Quantidade de combinações: 36\n"
     ]
    }
   ],
   "source": [
    "from itertools import combinations\n",
    "\n",
    "# Lista com os nove locais de instalação de antenas\n",
    "locais_instalacao = {\n",
    "    'A':\n",
    "    'B':\n",
    "    'C':\n",
    "    'D':\n",
    "    'E':\n",
    "    'F':\n",
    "    'G':\n",
    "    'H':\n",
    "    'I'\n",
    "}\n",
    "\n",
    "locais_instalacao = ['A', 'B', 'C', 'D', 'E', 'F', 'G', 'H', 'I']\n",
    "\n",
    "# Gerar todas as combinações possíveis de instalação, considerando 7 antenas\n",
    "comb = list(combinations(locais_instalacao, 7))\n",
    "\n",
    "# Imprimir todas as combinações possíveis, conforme acima\n",
    "for c in comb:\n",
    "    print(c)\n",
    "\n",
    "# Imprimir a quantidade de combinações\n",
    "print(f'\\nQuantidade de combinações: {len(comb)}')"
   ]
  },
  {
   "cell_type": "code",
   "execution_count": 8,
   "metadata": {},
   "outputs": [
    {
     "data": {
      "text/plain": [
       "792"
      ]
     },
     "execution_count": 8,
     "metadata": {},
     "output_type": "execute_result"
    }
   ],
   "source": [
    "len(comb)"
   ]
  },
  {
   "cell_type": "code",
   "execution_count": null,
   "metadata": {},
   "outputs": [],
   "source": []
  }
 ],
 "metadata": {
  "kernelspec": {
   "display_name": "base",
   "language": "python",
   "name": "python3"
  },
  "language_info": {
   "codemirror_mode": {
    "name": "ipython",
    "version": 3
   },
   "file_extension": ".py",
   "mimetype": "text/x-python",
   "name": "python",
   "nbconvert_exporter": "python",
   "pygments_lexer": "ipython3",
   "version": "3.12.1"
  }
 },
 "nbformat": 4,
 "nbformat_minor": 2
}
